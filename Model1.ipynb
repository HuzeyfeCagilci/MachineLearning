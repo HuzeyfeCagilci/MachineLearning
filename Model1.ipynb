{
 "cells": [
  {
   "cell_type": "code",
   "execution_count": 1,
   "id": "5b73b85b-6796-49cb-b286-c16cee7a9549",
   "metadata": {},
   "outputs": [],
   "source": [
    "import tensorflow as tf\n",
    "from tensorflow import keras\n",
    "from tensorflow.keras import layers, activations\n",
    "from tensorflow.keras.layers import Dense \n",
    "import numpy as np"
   ]
  },
  {
   "cell_type": "code",
   "execution_count": 2,
   "id": "dee235d7-c254-4015-b9d6-bffc99413f29",
   "metadata": {},
   "outputs": [
    {
     "name": "stdout",
     "output_type": "stream",
     "text": [
      "1 Physical GPUs, 1 Logical GPUs\n"
     ]
    }
   ],
   "source": [
    "gpus = tf.config.list_physical_devices('GPU')\n",
    "if gpus:\n",
    "  # Restrict TensorFlow to only allocate 1GB of memory on the first GPU\n",
    "  try:\n",
    "    tf.config.set_logical_device_configuration(\n",
    "        gpus[0],\n",
    "        [tf.config.LogicalDeviceConfiguration(memory_limit=1024)])\n",
    "    logical_gpus = tf.config.list_logical_devices('GPU')\n",
    "    print(len(gpus), \"Physical GPUs,\", len(logical_gpus), \"Logical GPUs\")\n",
    "  except RuntimeError as e:\n",
    "    # Virtual devices must be set before GPUs have been initialized\n",
    "    print(e)"
   ]
  },
  {
   "cell_type": "code",
   "execution_count": 3,
   "id": "ca5df6b3-3386-4b34-8915-4c727f1779f0",
   "metadata": {},
   "outputs": [
    {
     "data": {
      "text/plain": [
       "(array([[72, 81, 87, 66, 60],\n",
       "        [17, 41, 23, 47, 10],\n",
       "        [31, 11,  2, 14,  2],\n",
       "        [52, 52, 92, 66, 54],\n",
       "        [54, 88, 62, 58, 78],\n",
       "        [47, 44, 41, 32, 17],\n",
       "        [60, 51, 95, 62, 97]]),\n",
       " array([10,  0,  0, 10, 10,  0, 10]))"
      ]
     },
     "execution_count": 3,
     "metadata": {},
     "output_type": "execute_result"
    }
   ],
   "source": [
    "input = np.array([np.random.randint(50,100,5),\n",
    "         np.random.randint(0,50,5),\n",
    "         np.random.randint(0,50,5),\n",
    "         np.random.randint(50,100,5),\n",
    "         np.random.randint(50,100,5),\n",
    "         np.random.randint(0,50,5),\n",
    "         np.random.randint(50,100,5)])\n",
    "output = np.array([10,0,0,10,10,0,10])\n",
    "input,output"
   ]
  },
  {
   "cell_type": "code",
   "execution_count": 4,
   "id": "422e0697-97e9-479d-b2e5-ca27c38d8253",
   "metadata": {},
   "outputs": [],
   "source": [
    "Input = layers.InputLayer([5])\n"
   ]
  },
  {
   "cell_type": "code",
   "execution_count": 5,
   "id": "302a115f-3048-434d-94e6-a7bdcae1deda",
   "metadata": {},
   "outputs": [],
   "source": [
    "S = keras.Sequential([Input,\n",
    "                      Dense(64, activations.selu),\n",
    "                      Dense(64, activations.selu),\n",
    "                      Dense(1, activations.linear)\n",
    "                     ])"
   ]
  },
  {
   "cell_type": "code",
   "execution_count": 6,
   "id": "b7ece9aa-ca98-4522-bb9e-2354ec45cd5b",
   "metadata": {},
   "outputs": [
    {
     "name": "stdout",
     "output_type": "stream",
     "text": [
      "Model: \"sequential\"\n",
      "_________________________________________________________________\n",
      " Layer (type)                Output Shape              Param #   \n",
      "=================================================================\n",
      " dense (Dense)               (None, 64)                384       \n",
      "                                                                 \n",
      " dense_1 (Dense)             (None, 64)                4160      \n",
      "                                                                 \n",
      " dense_2 (Dense)             (None, 1)                 65        \n",
      "                                                                 \n",
      "=================================================================\n",
      "Total params: 4,609\n",
      "Trainable params: 4,609\n",
      "Non-trainable params: 0\n",
      "_________________________________________________________________\n"
     ]
    }
   ],
   "source": [
    "S.summary()"
   ]
  },
  {
   "cell_type": "code",
   "execution_count": 7,
   "id": "d9e6aa1a-90de-491b-902a-28d769f07c00",
   "metadata": {},
   "outputs": [],
   "source": [
    "S.compile(loss=keras.losses.Hinge())"
   ]
  },
  {
   "cell_type": "code",
   "execution_count": 8,
   "id": "c069d89c-d94a-48f8-88df-42e903cbc518",
   "metadata": {
    "scrolled": true
   },
   "outputs": [
    {
     "name": "stdout",
     "output_type": "stream",
     "text": [
      "Epoch 1/10\n",
      "1/1 [==============================] - 2s 2s/step - loss: 0.4286\n",
      "Epoch 2/10\n",
      "1/1 [==============================] - 0s 11ms/step - loss: 0.4286\n",
      "Epoch 3/10\n",
      "1/1 [==============================] - 0s 11ms/step - loss: 0.4286\n",
      "Epoch 4/10\n",
      "1/1 [==============================] - 0s 9ms/step - loss: 0.4286\n",
      "Epoch 5/10\n",
      "1/1 [==============================] - 0s 11ms/step - loss: 0.4286\n",
      "Epoch 6/10\n",
      "1/1 [==============================] - 0s 10ms/step - loss: 0.4286\n",
      "Epoch 7/10\n",
      "1/1 [==============================] - 0s 14ms/step - loss: 0.4286\n",
      "Epoch 8/10\n",
      "1/1 [==============================] - 0s 15ms/step - loss: 0.4286\n",
      "Epoch 9/10\n",
      "1/1 [==============================] - 0s 10ms/step - loss: 0.4286\n",
      "Epoch 10/10\n",
      "1/1 [==============================] - 0s 13ms/step - loss: 0.4286\n"
     ]
    },
    {
     "data": {
      "text/plain": [
       "<tf.Tensor: shape=(7, 1), dtype=float32, numpy=\n",
       "array([[ 7.1973267],\n",
       "       [ 4.8686085],\n",
       "       [-2.2795293],\n",
       "       [ 6.7417965],\n",
       "       [ 8.19239  ],\n",
       "       [ 0.8099861],\n",
       "       [ 4.212105 ]], dtype=float32)>"
      ]
     },
     "execution_count": 8,
     "metadata": {},
     "output_type": "execute_result"
    }
   ],
   "source": [
    "S.fit(input,output, epochs=10, verbose=1)\n",
    "\n",
    "S(input)"
   ]
  },
  {
   "cell_type": "code",
   "execution_count": null,
   "id": "1b646cb4-91d0-4efc-b958-5c7e2d8b596c",
   "metadata": {},
   "outputs": [],
   "source": []
  },
  {
   "cell_type": "code",
   "execution_count": null,
   "id": "c1dacd2d-1286-4185-b505-824533f443b0",
   "metadata": {},
   "outputs": [],
   "source": []
  }
 ],
 "metadata": {
  "kernelspec": {
   "display_name": "Python 3 (ipykernel)",
   "language": "python",
   "name": "python3"
  },
  "language_info": {
   "codemirror_mode": {
    "name": "ipython",
    "version": 3
   },
   "file_extension": ".py",
   "mimetype": "text/x-python",
   "name": "python",
   "nbconvert_exporter": "python",
   "pygments_lexer": "ipython3",
   "version": "3.10.12"
  }
 },
 "nbformat": 4,
 "nbformat_minor": 5
}
